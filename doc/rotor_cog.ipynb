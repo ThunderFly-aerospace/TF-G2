{
 "cells": [
  {
   "cell_type": "code",
   "execution_count": 25,
   "metadata": {},
   "outputs": [],
   "source": [
    "import numpy as np\n",
    "import math\n",
    "np.set_printoptions(suppress=True)"
   ]
  },
  {
   "cell_type": "code",
   "execution_count": 27,
   "metadata": {},
   "outputs": [
    {
     "name": "stdout",
     "output_type": "stream",
     "text": [
      "Teziste rotoru bez vyztuhy [  3.282485   0.787212 243.970601]\n",
      "Hmotnost rotoru: 39.72743941559034 g\n",
      "Teziste vyztuhy 1: [-6.   0.3  0. ]\n",
      "Hmotnost vyztuhy 1: 30.3163691071415 g\n",
      "Teziste vyztuhy 2: [3.  0.1 0. ]\n",
      "Hmotnost vyztuhy 2: 13.35176877775662 g\n",
      "Celkova hmotnost:  83.39557730048847\n"
     ]
    }
   ],
   "source": [
    "rotor_length = 500 - 15\n",
    "rotor_depth = 45.5\n",
    "\n",
    "\n",
    "rotor_volume =  13213.4 * math.pi*(1.75/2)**2 / 1000000000\n",
    "#rotor_volume =  23679.529297 / 1000000000\n",
    "rotor_cog = np.array([3.282484999999994, 0.7872119999999951, 243.970601])\n",
    "\n",
    "rotor_density = 1250\n",
    "rotor_mass = rotor_density * rotor_volume\n",
    "\n",
    "rod_diameter = 2\n",
    "rod_length = 500\n",
    "rod_volume = rod_length * math.pi*(rod_diameter/2)**2 / 1000000000\n",
    "# rod_density = 8500\n",
    "rod_density = 19300\n",
    "rod_cog = np.array([-6, 0.3, 0])\n",
    "rod_mass = rod_density * rod_volume\n",
    "\n",
    "rod2_diameter = 2\n",
    "rod2_length = 500\n",
    "rod2_volume = rod2_length * math.pi*(rod2_diameter/2)**2 / 1000000000\n",
    "rod2_density = 8500\n",
    "rod2_cog = np.array([3, 0.1, 0])\n",
    "rod2_mass = rod2_density * rod2_volume\n",
    "\n",
    "# rod3_diameter = 1\n",
    "# rod3_length = 400\n",
    "# rod3_volume = rod3_length * math.pi*(rod3_diameter/2)**2 / 1000000000\n",
    "# rod3_density = 2270\n",
    "# rod3_cog = np.array([rotor_depth/4 + 3.5, 0, rod3_length/2])\n",
    "# rod3_mass = rod3_density * rod3_volume\n",
    "\n",
    "\n",
    "print(\"Teziste rotoru bez vyztuhy\", rotor_cog)\n",
    "print(\"Hmotnost rotoru:\", rotor_mass*1000, \"g\")\n",
    "print(\"Teziste vyztuhy 1:\", rod_cog)\n",
    "print(\"Hmotnost vyztuhy 1:\", rod_mass*1000, \"g\")\n",
    "print(\"Teziste vyztuhy 2:\", rod2_cog)\n",
    "print(\"Hmotnost vyztuhy 2:\", rod2_mass*1000, \"g\")\n",
    "\n",
    "print(\"Celkova hmotnost: \", (rotor_mass + rod_mass + rod2_mass) *1000)"
   ]
  },
  {
   "cell_type": "code",
   "execution_count": 28,
   "metadata": {},
   "outputs": [
    {
     "name": "stdout",
     "output_type": "stream",
     "text": [
      "Idealni X pozice:  0\n",
      "Celkove teziste: [ -0.00987061   0.4958345  116.93146339]\n"
     ]
    }
   ],
   "source": [
    "new_cog = ((rod3_mass * rod3_cog)+(rod2_mass * rod2_cog)+(rod_mass * rod_cog)+(rotor_mass * rotor_cog))/(rod_mass + rotor_mass + rod2_mass + rod3_mass)\n",
    "\n",
    "print(\"Idealni X pozice: \", 0)\n",
    "print(\"Celkove teziste:\", new_cog)"
   ]
  },
  {
   "cell_type": "code",
   "execution_count": 18,
   "metadata": {},
   "outputs": [],
   "source": [
    "import json\n",
    "import math\n",
    "import numpy as np\n",
    "np.set_printoptions(suppress=True)"
   ]
  },
  {
   "cell_type": "code",
   "execution_count": 27,
   "metadata": {},
   "outputs": [
    {
     "name": "stdout",
     "output_type": "stream",
     "text": [
      "{'cog': {'X': 14.55228066396961, 'Y': -0.032508416639056965, 'Z': 192.1404119937146}, 'cog_stl': {'X': 14.55228066396961, 'Y': -0.032508416639056965, 'Z': 192.1404119937146}, 'file': '111_1009.gcode', 'material': {'density': 1.24, 'extrudate': 11278.032139999881, 'mass': 30.59374443895896, 'volume': 27126.84629657323}, 'slicer_translation': {'X': 0, 'Y': 0, 'Z': 0}}\n"
     ]
    }
   ],
   "source": [
    "slicing = json.load(open('../CAD/amf/111_1009.json'))\n",
    "print(slicing)"
   ]
  },
  {
   "cell_type": "code",
   "execution_count": 28,
   "metadata": {},
   "outputs": [
    {
     "name": "stdout",
     "output_type": "stream",
     "text": [
      "[ 14.55228066  -0.03250842 192.14041199] 30.59374443895896\n",
      "[  4.875        0.         192.14041199] 17.14131491614931\n",
      "[ 16.375        0.         192.14041199] 1.8849555921538759\n",
      "[ 11.27848942  -0.02004341 192.14041199] 47.73505935510827\n",
      "[ -0.09651058  -0.02004341 192.14041199]\n"
     ]
    }
   ],
   "source": [
    "x1 = np.array([slicing['cog']['X'], slicing['cog']['Y'], slicing['cog']['Z']])\n",
    "m1 = slicing['material']['mass']\n",
    "\n",
    "x2 = np.array([45.5/4 - 6.5, 0, slicing['cog']['Z']])\n",
    "m2 = 400 * math.pi * (2.5/2)**2 * 8.73 / 1000\n",
    "\n",
    "x3 = np.array([45.5/4 + 5, 0, slicing['cog']['Z']])\n",
    "m3 = 400 * math.pi * (2/2)**2 * 1.5 / 1000\n",
    "\n",
    "cog = (x1*m1) + (x2*m2) + (x3*m3)\n",
    "cog /= (m1+m2+m3)\n",
    "\n",
    "target = np.array([45.5/4, 0, 0])\n",
    "\n",
    "print(x1, m1)\n",
    "print(x2, m2)\n",
    "print(x3, m3)\n",
    "\n",
    "print(cog, m1+m2)\n",
    "\n",
    "print(cog-target)"
   ]
  },
  {
   "cell_type": "code",
   "execution_count": null,
   "metadata": {},
   "outputs": [],
   "source": []
  }
 ],
 "metadata": {
  "kernelspec": {
   "display_name": "Python 3 (ipykernel)",
   "language": "python",
   "name": "python3"
  },
  "language_info": {
   "codemirror_mode": {
    "name": "ipython",
    "version": 3
   },
   "file_extension": ".py",
   "mimetype": "text/x-python",
   "name": "python",
   "nbconvert_exporter": "python",
   "pygments_lexer": "ipython3",
   "version": "3.9.2"
  }
 },
 "nbformat": 4,
 "nbformat_minor": 2
}
