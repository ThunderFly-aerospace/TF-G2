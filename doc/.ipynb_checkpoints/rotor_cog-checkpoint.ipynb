{
 "cells": [
  {
   "cell_type": "code",
   "execution_count": 1,
   "metadata": {},
   "outputs": [],
   "source": [
    "import numpy as np\n",
    "import math\n",
    "np.set_printoptions(suppress=True)"
   ]
  },
  {
   "cell_type": "code",
   "execution_count": 20,
   "metadata": {},
   "outputs": [
    {
     "name": "stdout",
     "output_type": "stream",
     "text": [
      "Teziste rotoru bez vyztuhy [  3.282485   0.787212 243.970601]\n",
      "Hmotnost rotoru bez vyztuhy: 52.204 g\n",
      "Teziste vyztuhy 1: [ -8.9        0.274209 255.      ]\n",
      "Teziste vyztuhy 2: [ -5.8   0.5 255. ]\n",
      "Teziste vyztuhy 3: [  3.5   0.5 255. ]\n",
      "Hmotnost vyztuhy: 13.084733402201488 g\n",
      "Celkova hmotnost:  91.45820020660447\n",
      "Idealni X pozice mm:  0\n",
      "Celkove teziste mm: [  0.64438375   0.58357048 249.87075618]\n"
     ]
    }
   ],
   "source": [
    "rod_diameter_mm = 2\n",
    "rod_density_kg_m3 = 8500\n",
    "rotor_filament_density_kg_m3=1240\n",
    "\n",
    "rod_length_mm = 490\n",
    "rotor_length_mm=500\n",
    "\n",
    "#from parameters - we computed 3 separate rods of same length, dont count rounding\n",
    "rod1_cog_mm = np.array([-9.2, 0.345288, 0])\n",
    "rod2_cog_mm = np.array([-5.8, 0.5, 0])\n",
    "rod3_cog_mm = np.array([3.5, 0.5, 0])\n",
    "\n",
    "rod_cog_z=rotor_length_mm-rod_length_mm+rod_length_mm/2\n",
    "\n",
    "rod1_cog_mm = rod1_cog_mm+[0,0,rod_cog_z]\n",
    "rod2_cog_mm = rod2_cog_mm+[0,0,rod_cog_z]\n",
    "rod3_cog_mm = rod3_cog_mm+[0,0,rod_cog_z]\n",
    "\n",
    "#from slicer output (with --dont-arrange) of printplate_888_4001_cog\n",
    "rotor_cog_mm = np.array([3.92488,  0.709205, 245.92753])\n",
    "rotor_volume_cm3 = 42.2\n",
    "\n",
    "\n",
    "rotor_mass_kg = rotor_filament_density_kg_m3*rotor_volume_cm3/1000000\n",
    "\n",
    "rod_volume_m3 = rod_length_mm * math.pi*(rod_diameter_mm/2)**2 / 1000000000\n",
    "rod_mass_kg = rod_density_kg_m3 * rod_volume_m3\n",
    "\n",
    "\n",
    "\n",
    "print(\"Teziste rotoru bez vyztuhy\", rotor_cog)\n",
    "print(\"Hmotnost rotoru bez vyztuhy:\", rotor_mass_kg*1000, \"g\")\n",
    "print(\"Teziste vyztuhy 1:\", rod1_cog_mm)\n",
    "print(\"Teziste vyztuhy 2:\", rod2_cog_mm)\n",
    "print(\"Teziste vyztuhy 3:\", rod3_cog_mm)\n",
    "print(\"Hmotnost vyztuhy:\", rod_mass_kg*1000, \"g\")\n",
    "\n",
    "print(\"Celkova hmotnost: \", (rotor_mass_kg + 3*rod_mass_kg) *1000)\n",
    "\n",
    "new_cog = ((rod_mass_kg * rod3_cog_mm)+(rod_mass_kg * rod2_cog_mm)+(rod_mass_kg * rod1_cog_mm)+(rotor_mass_kg * rotor_cog_mm))/(3*rod_mass_kg + rotor_mass_kg)\n",
    "\n",
    "print(\"Idealni X pozice mm: \", 0)\n",
    "print(\"Celkove teziste mm:\", new_cog)"
   ]
  },
  {
   "cell_type": "code",
   "execution_count": 18,
   "metadata": {},
   "outputs": [],
   "source": [
    "import json\n",
    "import math\n",
    "import numpy as np\n",
    "np.set_printoptions(suppress=True)"
   ]
  },
  {
   "cell_type": "code",
   "execution_count": 27,
   "metadata": {},
   "outputs": [
    {
     "name": "stdout",
     "output_type": "stream",
     "text": [
      "{'cog': {'X': 14.55228066396961, 'Y': -0.032508416639056965, 'Z': 192.1404119937146}, 'cog_stl': {'X': 14.55228066396961, 'Y': -0.032508416639056965, 'Z': 192.1404119937146}, 'file': '111_1009.gcode', 'material': {'density': 1.24, 'extrudate': 11278.032139999881, 'mass': 30.59374443895896, 'volume': 27126.84629657323}, 'slicer_translation': {'X': 0, 'Y': 0, 'Z': 0}}\n"
     ]
    }
   ],
   "source": [
    "slicing = json.load(open('../CAD/amf/111_1009.json'))\n",
    "print(slicing)"
   ]
  },
  {
   "cell_type": "code",
   "execution_count": 28,
   "metadata": {},
   "outputs": [
    {
     "name": "stdout",
     "output_type": "stream",
     "text": [
      "[ 14.55228066  -0.03250842 192.14041199] 30.59374443895896\n",
      "[  4.875        0.         192.14041199] 17.14131491614931\n",
      "[ 16.375        0.         192.14041199] 1.8849555921538759\n",
      "[ 11.27848942  -0.02004341 192.14041199] 47.73505935510827\n",
      "[ -0.09651058  -0.02004341 192.14041199]\n"
     ]
    }
   ],
   "source": [
    "x1 = np.array([slicing['cog']['X'], slicing['cog']['Y'], slicing['cog']['Z']])\n",
    "m1 = slicing['material']['mass']\n",
    "\n",
    "x2 = np.array([45.5/4 - 6.5, 0, slicing['cog']['Z']])\n",
    "m2 = 400 * math.pi * (2.5/2)**2 * 8.73 / 1000\n",
    "\n",
    "x3 = np.array([45.5/4 + 5, 0, slicing['cog']['Z']])\n",
    "m3 = 400 * math.pi * (2/2)**2 * 1.5 / 1000\n",
    "\n",
    "cog = (x1*m1) + (x2*m2) + (x3*m3)\n",
    "cog /= (m1+m2+m3)\n",
    "\n",
    "target = np.array([45.5/4, 0, 0])\n",
    "\n",
    "print(x1, m1)\n",
    "print(x2, m2)\n",
    "print(x3, m3)\n",
    "\n",
    "print(cog, m1+m2)\n",
    "\n",
    "print(cog-target)"
   ]
  },
  {
   "cell_type": "code",
   "execution_count": null,
   "metadata": {},
   "outputs": [],
   "source": []
  }
 ],
 "metadata": {
  "kernelspec": {
   "display_name": "Python 3 (ipykernel)",
   "language": "python",
   "name": "python3"
  },
  "language_info": {
   "codemirror_mode": {
    "name": "ipython",
    "version": 3
   },
   "file_extension": ".py",
   "mimetype": "text/x-python",
   "name": "python",
   "nbconvert_exporter": "python",
   "pygments_lexer": "ipython3",
   "version": "3.7.3"
  }
 },
 "nbformat": 4,
 "nbformat_minor": 2
}
